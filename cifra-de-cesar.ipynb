{
 "cells": [
  {
   "cell_type": "code",
   "execution_count": null,
   "metadata": {},
   "outputs": [],
   "source": [
    "from collections import deque"
   ]
  },
  {
   "cell_type": "code",
   "execution_count": null,
   "metadata": {},
   "outputs": [],
   "source": [
    "def get_shifted_char(char: str, shift: int) -> str:\n",
    "    \n",
    "    NORMAL_DICT =  {'a': 0, 'b': 1, 'c': 2, 'd': 3, 'e': 4, 'f': 5, 'g': 6, 'h': 7, 'i': 8, 'j': 9, 'k':10, 'l':11, 'm':12, 'n':13, 'o':14, 'p':15, 'q':16, 'r':17, 's':18, 't':19, 'u':20, 'v':21, 'w':22, 'x':23, 'y':24, 'z':25}\n",
    "    \n",
    "    if char in NORMAL_DICT.keys():\n",
    "    \n",
    "        alphabet_shifted = deque('abcdefghijklmnopqrstuvwxyz')\n",
    "\n",
    "        alphabet_shifted.rotate(shift)\n",
    "\n",
    "        encoded_char_code = NORMAL_DICT[char]\n",
    "\n",
    "        decoded_char = alphabet_shifted[encoded_char_code]\n",
    "\n",
    "        return decoded_char\n",
    "    \n",
    "    return char"
   ]
  },
  {
   "cell_type": "code",
   "execution_count": null,
   "metadata": {},
   "outputs": [],
   "source": [
    "def get_shifted_text(text: str, shift: int) -> str:\n",
    "    \n",
    "    res_str = ''\n",
    "\n",
    "    for letter in text:\n",
    "        res_str += get_shifted_char(letter.lower(), shift)\n",
    "\n",
    "    return res_str"
   ]
  },
  {
   "cell_type": "code",
   "execution_count": null,
   "metadata": {},
   "outputs": [],
   "source": [
    "print(get_shifted_text('frase de teste', 3))"
   ]
  },
  {
   "cell_type": "code",
   "execution_count": null,
   "metadata": {},
   "outputs": [],
   "source": [
    "print(get_shifted_text('coxpb ab qbpqb', -3))"
   ]
  }
 ],
 "metadata": {
  "kernelspec": {
   "display_name": "Python 3",
   "language": "python",
   "name": "python3"
  },
  "language_info": {
   "codemirror_mode": {
    "name": "ipython",
    "version": 3
   },
   "file_extension": ".py",
   "mimetype": "text/x-python",
   "name": "python",
   "nbconvert_exporter": "python",
   "pygments_lexer": "ipython3",
   "version": "3.6.9"
  }
 },
 "nbformat": 4,
 "nbformat_minor": 4
}
