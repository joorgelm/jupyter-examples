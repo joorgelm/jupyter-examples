{
 "cells": [
  {
   "cell_type": "code",
   "execution_count": null,
   "metadata": {},
   "outputs": [],
   "source": [
    "!pip3 install seaborn --user"
   ]
  },
  {
   "cell_type": "code",
   "execution_count": null,
   "metadata": {},
   "outputs": [],
   "source": [
    "!pip3 install sklearn"
   ]
  },
  {
   "cell_type": "code",
   "execution_count": null,
   "metadata": {},
   "outputs": [],
   "source": [
    "import numpy as np\n",
    "import seaborn as sns\n",
    "\n",
    "iris = sns.load_dataset('iris')\n",
    "\n",
    "features = np.array(iris[['sepal_length', 'sepal_width', 'petal_length', 'petal_width']].values)\n",
    "\n",
    "target = np.array(iris['species'].values)\n",
    "\n",
    "iris.head()"
   ]
  },
  {
   "cell_type": "code",
   "execution_count": null,
   "metadata": {},
   "outputs": [],
   "source": [
    "from sklearn.neighbors import KNeighborsClassifier\n",
    "\n",
    "neigh = KNeighborsClassifier(n_neighbors=4)\n",
    "\n",
    "neigh.fit(features, target)\n",
    "\n",
    "neigh.predict([[2.3, 1.1, 3.4, 2.1]]) # array(['versicolor'], dtype=object)"
   ]
  },
  {
   "cell_type": "code",
   "execution_count": null,
   "metadata": {},
   "outputs": [],
   "source": [
    "from sklearn.model_selection import StratifiedKFold\n",
    "from sklearn.metrics import accuracy_score\n",
    "\n",
    "def k_fold_cross_validation(model, x, y, n_folds=3):\n",
    "    \n",
    "    kf = StratifiedKFold(n_splits=n_folds)\n",
    "    \n",
    "    results_accuracy = []\n",
    "    \n",
    "    for train, test in kf.split(x, y):\n",
    "        \n",
    "        data_train, target_train = x[train], y[train]\n",
    "        data_test, target_test   = x[test], y[test]\n",
    "        \n",
    "        model = model.fit(data_train, target_train)\n",
    "        out = model.predict(data_test)\n",
    "        \n",
    "        accuracy = accuracy_score(target_test, out)\n",
    "        \n",
    "        results_accuracy.append(accuracy)\n",
    "        \n",
    "    print('accuracy')\n",
    "    print(np.average(results_accuracy))"
   ]
  },
  {
   "cell_type": "code",
   "execution_count": null,
   "metadata": {},
   "outputs": [],
   "source": [
    "k_fold_cross_validation(model=neigh, x=features, y=target, n_folds=3)"
   ]
  }
 ],
 "metadata": {
  "kernelspec": {
   "display_name": "Python 3",
   "language": "python",
   "name": "python3"
  },
  "language_info": {
   "codemirror_mode": {
    "name": "ipython",
    "version": 3
   },
   "file_extension": ".py",
   "mimetype": "text/x-python",
   "name": "python",
   "nbconvert_exporter": "python",
   "pygments_lexer": "ipython3",
   "version": "3.6.9"
  }
 },
 "nbformat": 4,
 "nbformat_minor": 2
}
