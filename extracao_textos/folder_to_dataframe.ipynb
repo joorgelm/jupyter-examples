{
 "cells": [
  {
   "cell_type": "markdown",
   "metadata": {},
   "source": [
    "### Instalação da lib Ruppell"
   ]
  },
  {
   "cell_type": "markdown",
   "metadata": {},
   "source": [
    "!pip3 install ruppell"
   ]
  },
  {
   "cell_type": "markdown",
   "metadata": {},
   "source": [
    "### Configuração do idioma dos documentos"
   ]
  },
  {
   "cell_type": "code",
   "execution_count": 2,
   "metadata": {},
   "outputs": [],
   "source": [
    "import ruppell\n",
    "\n",
    "ruppell.setup_language(language='por')"
   ]
  },
  {
   "cell_type": "markdown",
   "metadata": {},
   "source": [
    "### Convertendo uma pasta de documentos em um Pandas Dataframe"
   ]
  },
  {
   "cell_type": "code",
   "execution_count": 3,
   "metadata": {},
   "outputs": [
    {
     "data": {
      "text/html": [
       "<div>\n",
       "<style scoped>\n",
       "    .dataframe tbody tr th:only-of-type {\n",
       "        vertical-align: middle;\n",
       "    }\n",
       "\n",
       "    .dataframe tbody tr th {\n",
       "        vertical-align: top;\n",
       "    }\n",
       "\n",
       "    .dataframe thead th {\n",
       "        text-align: right;\n",
       "    }\n",
       "</style>\n",
       "<table border=\"1\" class=\"dataframe\">\n",
       "  <thead>\n",
       "    <tr style=\"text-align: right;\">\n",
       "      <th></th>\n",
       "      <th>file_name</th>\n",
       "      <th>text_raw</th>\n",
       "    </tr>\n",
       "  </thead>\n",
       "  <tbody>\n",
       "    <tr>\n",
       "      <th>0</th>\n",
       "      <td>971973Edital Prograd nº 203_2019 -  PASSE Triê...</td>\n",
       "      <td>EDITAL DE SELEÇÃO Nº 203/2019 - PROGRAD/UFMS\\n...</td>\n",
       "    </tr>\n",
       "    <tr>\n",
       "      <th>1</th>\n",
       "      <td>102205201_Tecnico_20_cons.pdf</td>\n",
       "      <td>14/02/2020\\n\\nSEI/UFMS - 1725339 - Edital\\n\\nE...</td>\n",
       "    </tr>\n",
       "    <tr>\n",
       "      <th>2</th>\n",
       "      <td>105207601_CPS_.pdf</td>\n",
       "      <td>\\n\\n \\n\\n EDITAL N.º 001/2020 \\n\\n(Erratas nº...</td>\n",
       "    </tr>\n",
       "    <tr>\n",
       "      <th>3</th>\n",
       "      <td>100200301_CAA_ret.pdf</td>\n",
       "      <td>\\n\\n \\n\\n \\n\\n EDITAL N.º 001/2019 \\n(Republi...</td>\n",
       "    </tr>\n",
       "  </tbody>\n",
       "</table>\n",
       "</div>"
      ],
      "text/plain": [
       "                                           file_name  \\\n",
       "0  971973Edital Prograd nº 203_2019 -  PASSE Triê...   \n",
       "1                      102205201_Tecnico_20_cons.pdf   \n",
       "2                                 105207601_CPS_.pdf   \n",
       "3                              100200301_CAA_ret.pdf   \n",
       "\n",
       "                                            text_raw  \n",
       "0  EDITAL DE SELEÇÃO Nº 203/2019 - PROGRAD/UFMS\\n...  \n",
       "1  14/02/2020\\n\\nSEI/UFMS - 1725339 - Edital\\n\\nE...  \n",
       "2   \\n\\n \\n\\n EDITAL N.º 001/2020 \\n\\n(Erratas nº...  \n",
       "3   \\n\\n \\n\\n \\n\\n EDITAL N.º 001/2019 \\n(Republi...  "
      ]
     },
     "execution_count": 3,
     "metadata": {},
     "output_type": "execute_result"
    }
   ],
   "source": [
    "ruppell.folder_to_dataframe(folder_path='./documentos/')"
   ]
  }
 ],
 "metadata": {
  "kernelspec": {
   "display_name": "Python 3",
   "language": "python",
   "name": "python3"
  },
  "language_info": {
   "codemirror_mode": {
    "name": "ipython",
    "version": 3
   },
   "file_extension": ".py",
   "mimetype": "text/x-python",
   "name": "python",
   "nbconvert_exporter": "python",
   "pygments_lexer": "ipython3",
   "version": "3.6.9"
  }
 },
 "nbformat": 4,
 "nbformat_minor": 4
}
