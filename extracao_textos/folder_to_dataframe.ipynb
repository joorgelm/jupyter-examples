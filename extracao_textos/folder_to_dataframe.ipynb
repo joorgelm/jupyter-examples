{
 "cells": [
  {
   "cell_type": "markdown",
   "metadata": {},
   "source": [
    "### Instalação da lib Ruppell"
   ]
  },
  {
   "cell_type": "code",
   "execution_count": 2,
   "metadata": {},
   "outputs": [
    {
     "name": "stdout",
     "output_type": "stream",
     "text": [
      "Collecting ruppell\n",
      "  Using cached https://files.pythonhosted.org/packages/44/80/774ebc2d69404e5ad2aefb84cfc7ba43e1ce37defb30f9626f6d0983dbdf/ruppell-0.0.6-py3-none-any.whl\n",
      "Collecting docx2txt>=0.8 (from ruppell)\n",
      "Collecting pytesseract>=0.3.1 (from ruppell)\n",
      "Collecting setuptools>=46.1.3 (from ruppell)\n",
      "  Using cached https://files.pythonhosted.org/packages/a0/df/635cdb901ee4a8a42ec68e480c49f85f4c59e8816effbf57d9e6ee8b3588/setuptools-46.1.3-py3-none-any.whl\n",
      "Collecting pandas>=1.0.3 (from ruppell)\n",
      "  Using cached https://files.pythonhosted.org/packages/bb/71/8f53bdbcbc67c912b888b40def255767e475402e9df64050019149b1a943/pandas-1.0.3-cp36-cp36m-manylinux1_x86_64.whl\n",
      "Collecting pdfminer.six>=20200402 (from ruppell)\n",
      "  Using cached https://files.pythonhosted.org/packages/0b/04/f62d5834c2bdf90afcaeb23bb5241033c44e27000de64ad8472253daa4a8/pdfminer.six-20200402-py3-none-any.whl\n",
      "Collecting Pillow>=7.0.0 (from ruppell)\n",
      "  Using cached https://files.pythonhosted.org/packages/e0/50/8e78e6f62ffa50d6ca95c281d5a2819bef66d023ac1b723e253de5bda9c5/Pillow-7.1.2-cp36-cp36m-manylinux1_x86_64.whl\n",
      "Collecting python-dateutil>=2.6.1 (from pandas>=1.0.3->ruppell)\n",
      "  Using cached https://files.pythonhosted.org/packages/d4/70/d60450c3dd48ef87586924207ae8907090de0b306af2bce5d134d78615cb/python_dateutil-2.8.1-py2.py3-none-any.whl\n",
      "Collecting numpy>=1.13.3 (from pandas>=1.0.3->ruppell)\n",
      "  Using cached https://files.pythonhosted.org/packages/3d/fc/4763e5f17ac6e7e7d55f377cde859ca1c5d5ac624441ab45315bc578aa9e/numpy-1.18.3-cp36-cp36m-manylinux1_x86_64.whl\n",
      "Collecting pytz>=2017.2 (from pandas>=1.0.3->ruppell)\n",
      "  Using cached https://files.pythonhosted.org/packages/e7/f9/f0b53f88060247251bf481fa6ea62cd0d25bf1b11a87888e53ce5b7c8ad2/pytz-2019.3-py2.py3-none-any.whl\n",
      "Collecting sortedcontainers (from pdfminer.six>=20200402->ruppell)\n",
      "  Using cached https://files.pythonhosted.org/packages/13/f3/cf85f7c3a2dbd1a515d51e1f1676d971abe41bba6f4ab5443240d9a78e5b/sortedcontainers-2.1.0-py2.py3-none-any.whl\n",
      "Collecting chardet; python_version > \"3.0\" (from pdfminer.six>=20200402->ruppell)\n",
      "  Using cached https://files.pythonhosted.org/packages/bc/a9/01ffebfb562e4274b6487b4bb1ddec7ca55ec7510b22e4c51f14098443b8/chardet-3.0.4-py2.py3-none-any.whl\n",
      "Collecting pycryptodome (from pdfminer.six>=20200402->ruppell)\n",
      "  Using cached https://files.pythonhosted.org/packages/af/16/da16a22d47bac9bf9db39f3b9af74e8eeed8855c0df96be20b580ef92fff/pycryptodome-3.9.7-cp36-cp36m-manylinux1_x86_64.whl\n",
      "Collecting six>=1.5 (from python-dateutil>=2.6.1->pandas>=1.0.3->ruppell)\n",
      "  Using cached https://files.pythonhosted.org/packages/65/eb/1f97cb97bfc2390a276969c6fae16075da282f5058082d4cb10c6c5c1dba/six-1.14.0-py2.py3-none-any.whl\n",
      "Installing collected packages: docx2txt, Pillow, pytesseract, setuptools, six, python-dateutil, numpy, pytz, pandas, sortedcontainers, chardet, pycryptodome, pdfminer.six, ruppell\n",
      "Successfully installed Pillow-7.1.2 chardet-3.0.4 docx2txt-0.8 numpy-1.18.3 pandas-1.0.3 pdfminer.six-20200402 pycryptodome-3.9.7 pytesseract-0.3.4 python-dateutil-2.8.1 pytz-2019.3 ruppell-0.0.6 setuptools-46.1.3 six-1.14.0 sortedcontainers-2.1.0\n"
     ]
    }
   ],
   "source": [
    "!pip3 install ruppell"
   ]
  },
  {
   "cell_type": "markdown",
   "metadata": {},
   "source": [
    "### Configuração do idioma dos documentos"
   ]
  },
  {
   "cell_type": "code",
   "execution_count": 3,
   "metadata": {},
   "outputs": [],
   "source": [
    "import ruppell\n",
    "\n",
    "ruppell.setup_language(language='por')"
   ]
  },
  {
   "cell_type": "markdown",
   "metadata": {},
   "source": [
    "### Convertendo uma pasta de documentos em um Pandas Dataframe"
   ]
  },
  {
   "cell_type": "code",
   "execution_count": 4,
   "metadata": {},
   "outputs": [],
   "source": [
    "pandas_dataframe = ruppell.folder_to_dataframe(folder_path='./documentos/')"
   ]
  },
  {
   "cell_type": "code",
   "execution_count": 5,
   "metadata": {},
   "outputs": [
    {
     "data": {
      "text/html": [
       "<div>\n",
       "<style scoped>\n",
       "    .dataframe tbody tr th:only-of-type {\n",
       "        vertical-align: middle;\n",
       "    }\n",
       "\n",
       "    .dataframe tbody tr th {\n",
       "        vertical-align: top;\n",
       "    }\n",
       "\n",
       "    .dataframe thead th {\n",
       "        text-align: right;\n",
       "    }\n",
       "</style>\n",
       "<table border=\"1\" class=\"dataframe\">\n",
       "  <thead>\n",
       "    <tr style=\"text-align: right;\">\n",
       "      <th></th>\n",
       "      <th>file_name</th>\n",
       "      <th>text_raw</th>\n",
       "    </tr>\n",
       "  </thead>\n",
       "  <tbody>\n",
       "    <tr>\n",
       "      <th>0</th>\n",
       "      <td>971973Edital Prograd nº 203_2019 -  PASSE Triê...</td>\n",
       "      <td>EDITAL DE SELEÇÃO Nº 203/2019 - PROGRAD/UFMS\\n...</td>\n",
       "    </tr>\n",
       "    <tr>\n",
       "      <th>1</th>\n",
       "      <td>102205201_Tecnico_20_cons.pdf</td>\n",
       "      <td>14/02/2020\\n\\nSEI/UFMS - 1725339 - Edital\\n\\nE...</td>\n",
       "    </tr>\n",
       "    <tr>\n",
       "      <th>2</th>\n",
       "      <td>105207601_CPS_.pdf</td>\n",
       "      <td>\\n\\n \\n\\n EDITAL N.º 001/2020 \\n\\n(Erratas nº...</td>\n",
       "    </tr>\n",
       "    <tr>\n",
       "      <th>3</th>\n",
       "      <td>100200301_CAA_ret.pdf</td>\n",
       "      <td>\\n\\n \\n\\n \\n\\n EDITAL N.º 001/2019 \\n(Republi...</td>\n",
       "    </tr>\n",
       "  </tbody>\n",
       "</table>\n",
       "</div>"
      ],
      "text/plain": [
       "                                           file_name  \\\n",
       "0  971973Edital Prograd nº 203_2019 -  PASSE Triê...   \n",
       "1                      102205201_Tecnico_20_cons.pdf   \n",
       "2                                 105207601_CPS_.pdf   \n",
       "3                              100200301_CAA_ret.pdf   \n",
       "\n",
       "                                            text_raw  \n",
       "0  EDITAL DE SELEÇÃO Nº 203/2019 - PROGRAD/UFMS\\n...  \n",
       "1  14/02/2020\\n\\nSEI/UFMS - 1725339 - Edital\\n\\nE...  \n",
       "2   \\n\\n \\n\\n EDITAL N.º 001/2020 \\n\\n(Erratas nº...  \n",
       "3   \\n\\n \\n\\n \\n\\n EDITAL N.º 001/2019 \\n(Republi...  "
      ]
     },
     "execution_count": 5,
     "metadata": {},
     "output_type": "execute_result"
    }
   ],
   "source": [
    "pandas_dataframe"
   ]
  }
 ],
 "metadata": {
  "kernelspec": {
   "display_name": "Python 3",
   "language": "python",
   "name": "python3"
  },
  "language_info": {
   "codemirror_mode": {
    "name": "ipython",
    "version": 3
   },
   "file_extension": ".py",
   "mimetype": "text/x-python",
   "name": "python",
   "nbconvert_exporter": "python",
   "pygments_lexer": "ipython3",
   "version": "3.6.9"
  }
 },
 "nbformat": 4,
 "nbformat_minor": 4
}
